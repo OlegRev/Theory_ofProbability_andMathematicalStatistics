{
 "cells": [
  {
   "cell_type": "markdown",
   "metadata": {},
   "source": [
    "$\\text{1. Вероятность того, что стрелок попадет в мишень,}\\\\\n",
    "\\text{выстрелив один раз, равна 0.8. Стрелок выстрелил 100 раз.}\\\\\n",
    "\\text{Найдите вероятность того, что стрелок попадет в цель ровно 85 раз.}\\\\\n",
    "$\n",
    "    "
   ]
  },
  {
   "cell_type": "code",
   "execution_count": 1,
   "metadata": {},
   "outputs": [
    {
     "data": {
      "text/plain": [
       "0.048061793700746355"
      ]
     },
     "execution_count": 1,
     "metadata": {},
     "output_type": "execute_result"
    }
   ],
   "source": [
    "N = 100\n",
    "K = 85\n",
    "P = 0.8\n",
    "Q = 1 - P\n",
    "def comb_a_b(a, b):\n",
    "    from math import factorial as fl\n",
    "    comb = fl(b)/(fl(a)*(fl(b-a)))\n",
    "    return comb\n",
    "\n",
    "def f_bino(n,k,p,q):\n",
    "    result = comb_a_b(k, n)*(p**k)*(q**(n-k))\n",
    "    return result\n",
    "\n",
    "f_bino(N, K, P, Q)"
   ]
  },
  {
   "cell_type": "markdown",
   "metadata": {},
   "source": [
    "$\\text{2. Вероятность того, что лампочка перегорит }\\\\\n",
    "\\text{в течение первого дня эксплуатации,равна 0.0004.}\\\\\n",
    "\\text{ В жилом комплексе после ремонта в один день включили 5000 новых лампочек.}\\\\\n",
    "\\text{ Какова вероятность, что ни одна из них не перегорит в первый день?}\\\\\n",
    "\\text{ Какова вероятность, что перегорят ровно две?}\\\\\n",
    "$\n"
   ]
  },
  {
   "cell_type": "code",
   "execution_count": 2,
   "metadata": {},
   "outputs": [
    {
     "name": "stdout",
     "output_type": "stream",
     "text": [
      "Вероятность, что ни одна из них не перегорит в первый день равна: 0.1353352832366127\n",
      "Вероятность, что перегорят ровно две равна: 0.2706705664732254\n",
      "\n"
     ]
    }
   ],
   "source": [
    "N = 5000\n",
    "M1 = 0\n",
    "M2 = 2\n",
    "P = 0.0004\n",
    "Q = 1 - P\n",
    "\n",
    "def f_puass(n, m, p):\n",
    "    lambda_ = n * p\n",
    "    from math import factorial , exp\n",
    "    result = (lambda_**m/factorial(m))*exp(-lambda_)\n",
    "    return result\n",
    "\n",
    "print(f'Вероятность, что ни одна из них не перегорит в первый день равна: {f_puass(N, M1, P)}\\n'\n",
    "      f'Вероятность, что перегорят ровно две равна: {f_puass(N, M2, P)}\\n')"
   ]
  },
  {
   "cell_type": "markdown",
   "metadata": {},
   "source": [
    "$\\text{3. Монету подбросили 144 раза. Какова вероятность, что орел выпадет ровно 70 раз?}\\\\\n",
    "$"
   ]
  },
  {
   "cell_type": "code",
   "execution_count": 3,
   "metadata": {},
   "outputs": [
    {
     "data": {
      "text/plain": [
       "0.06281178035144776"
      ]
     },
     "execution_count": 3,
     "metadata": {},
     "output_type": "execute_result"
    }
   ],
   "source": [
    "f_bino(144, 70, 0.5, 0.5)"
   ]
  },
  {
   "cell_type": "markdown",
   "metadata": {},
   "source": [
    "$\\text{4. В первом ящике находится 10 мячей, из которых 7 - белые.}\\\\\n",
    "\\text{Во втором ящике - 11 мячей, из которых 9 белых.}\\\\\n",
    "\\text{Из каждого ящика вытаскивают случайным образом по два мяча.}\\\\\\quad\\\\\n",
    "\\text{Какова вероятность того, что все мячи белые?}\\\\\n",
    "\\text{Какова вероятность того, что ровно два мяча белые?}\\\\\n",
    "\\text{Какова вероятность того, что хотя бы один мяч белый?}\\\\\n",
    "$\n"
   ]
  },
  {
   "cell_type": "code",
   "execution_count": 4,
   "metadata": {},
   "outputs": [
    {
     "name": "stdout",
     "output_type": "stream",
     "text": [
      "Вероятность того, что все мячи белые равна: 0.3054545454545455\n",
      "Вероятность того, что ровно два мяча белые равна: 0.20484848484848486\n",
      "Вероятность того, что хотя бы один мяч белый равна: 0.9987878787878788\n"
     ]
    }
   ],
   "source": [
    "n1 = 10\n",
    "n1_white = 7\n",
    "n1_black = n1-n1_white\n",
    "\n",
    "n2 = 11\n",
    "n2_white = 9\n",
    "n2_black = n2 - n2_white\n",
    "\n",
    "n_balls1 = 1\n",
    "n_balls2 = 2\n",
    "\n",
    "# Вероятности для 1 ящика\n",
    "p1_ww = comb_a_b(n_balls2, n1_white)/comb_a_b(n_balls2, n1) \n",
    "p1_bb = comb_a_b(n_balls2, n1_black)/comb_a_b(n_balls2, n1) \n",
    "p1_wb = (comb_a_b(n_balls1, n1_white)*comb_a_b(n_balls1, n1_black))/comb_a_b(n_balls2, n1)\n",
    "\n",
    "# Вероятности для 2 ящика\n",
    "p2_ww = comb_a_b(n_balls2, n2_white)/comb_a_b(n_balls2, n2) \n",
    "p2_bb = comb_a_b(n_balls2, n2_black)/comb_a_b(n_balls2, n2) \n",
    "p2_wb = (comb_a_b(n_balls1, n2_white)*comb_a_b(n_balls1, n2_black))/comb_a_b(n_balls2, n2)\n",
    "\n",
    "# Вероятности для выпадения 2 белых мячей из двух ящиков\n",
    "p1_2_wwbb = p1_ww*p2_bb\n",
    "p2_1_wwbb = p2_ww*p1_bb\n",
    "p1_2wbwb = p1_wb*p2_wb\n",
    "\n",
    "\n",
    "print(f'Вероятность того, что все мячи белые равна: {p1_ww* p2_ww}\\n'\n",
    "      f'Вероятность того, что ровно два мяча белые равна: {p1_2_wwbb + p2_1_wwbb + p1_2wbwb}\\n'\n",
    "      f'Вероятность того, что хотя бы один мяч белый равна: {1-p1_bb*p2_bb}')"
   ]
  },
  {
   "cell_type": "code",
   "execution_count": null,
   "metadata": {},
   "outputs": [],
   "source": []
  }
 ],
 "metadata": {
  "kernelspec": {
   "display_name": "Python 3",
   "language": "python",
   "name": "python3"
  },
  "language_info": {
   "codemirror_mode": {
    "name": "ipython",
    "version": 3
   },
   "file_extension": ".py",
   "mimetype": "text/x-python",
   "name": "python",
   "nbconvert_exporter": "python",
   "pygments_lexer": "ipython3",
   "version": "3.7.6"
  }
 },
 "nbformat": 4,
 "nbformat_minor": 4
}
