{
 "cells": [
  {
   "cell_type": "code",
   "execution_count": 77,
   "metadata": {},
   "outputs": [],
   "source": [
    "from math import pi, exp, sqrt"
   ]
  },
  {
   "cell_type": "markdown",
   "metadata": {},
   "source": [
    "Случайная непрерывная величина A имеет равномерное распределение на промежутке (200, 800].\n",
    "    \n",
    "    Найдите ее среднее значение и дисперсию.\n",
    "\n",
    "    "
   ]
  },
  {
   "cell_type": "code",
   "execution_count": 6,
   "metadata": {},
   "outputs": [
    {
     "name": "stdout",
     "output_type": "stream",
     "text": [
      "среднее значение \tM(A) = 500.0\n",
      "дисперсию \t\tD(A) = 30000.0\n"
     ]
    }
   ],
   "source": [
    "a = 200\n",
    "b = 800\n",
    "M_A = (a + b)/2\n",
    "D_A = (b - a)**2/12\n",
    "print(f'среднее значение \\tM(A) = {M_X}\\n'\n",
    "      f'дисперсию \\t\\tD(A) = {D_X}')"
   ]
  },
  {
   "cell_type": "markdown",
   "metadata": {},
   "source": [
    "О случайной непрерывной равномерно распределенной величине B известно, что ее дисперсия равна 0.2.\n",
    "\n",
    "    Можно ли найти правую границу величины B \n",
    "    и ее среднее значение зная, что левая граница равна 0.5?\n",
    "    Если да, найдите ее.\n",
    "\n",
    "    "
   ]
  },
  {
   "cell_type": "code",
   "execution_count": 54,
   "metadata": {
    "jupyter": {
     "source_hidden": true
    }
   },
   "outputs": [
    {
     "data": {
      "text/latex": [
       "$$D(X)=0.2 \\quad a = 0.5\\\\\n",
       "D(X) = \\frac{(b - a)^2}{12} = 0.2\\\\\n",
       "a^2-2ab+b^2 = 12 \\cdot 0.2\\\\\n",
       "b^2-2ab = 12 \\cdot 0.2 - a\\\\\n",
       "a = 0.5 \\to b^2-2ab = 12 \\cdot 0.2 - a^2 \\\\\n",
       "b^2 - b = 2.4 - 0.25 = 2.15\\\\\n",
       "b^2 - b - 2.15 = 0\\to\n",
       "D = -1^2 - 4\\cdot 1 \\cdot (-2.15) = 9.6\\to\\\\\n",
       "b1 = \\frac{1+ \\sqrt{9.6}}{2\\cdot 1}=2.049193338482967;\\quad\n",
       "b2 = \\frac{1- \\sqrt{9.6}}{2\\cdot 1}=-1.0491933384829668\\\\\n",
       "M(X) = \\frac{a + b1}{2} = \\frac{0.5 + 2.049193338482967}{2} = 1.2745966692414834\\\\\n",
       "M(X) = \\frac{a + b2}{2} = \\frac{0.5 -1.0491933384829668}{2} = -0.2745966692414834\\\\\n",
       "\\text{Так как левая граница 0.5то правой границей может быть только b1}\\\\\n",
       "\\to \\text{Cлучайная непрерывная равномерно распределенная величина B имеет:}\\\\\n",
       "a = 0.5\\quad b = 2.049193338482967 \\approx 2.05\\\\\n",
       "D(X) = 0.2\\quad M(X) = 1.2745966692414834 \\approx 1.2746\\\\\n",
       "\n",
       "$$\n",
       "    \n"
      ],
      "text/plain": [
       "<IPython.core.display.Latex object>"
      ]
     },
     "metadata": {},
     "output_type": "display_data"
    }
   ],
   "source": [
    "%%latex\n",
    "$$D(X)=0.2 \\quad a = 0.5\\\\\n",
    "D(X) = \\frac{(b - a)^2}{12} = 0.2\\\\\n",
    "a^2-2ab+b^2 = 12 \\cdot 0.2\\\\\n",
    "b^2-2ab = 12 \\cdot 0.2 - a\\\\\n",
    "a = 0.5 \\to b^2-2ab = 12 \\cdot 0.2 - a^2 \\\\\n",
    "b^2 - b = 2.4 - 0.25 = 2.15\\\\\n",
    "b^2 - b - 2.15 = 0\\to\n",
    "D = -1^2 - 4\\cdot 1 \\cdot (-2.15) = 9.6\\to\\\\\n",
    "b1 = \\frac{1+ \\sqrt{9.6}}{2\\cdot 1}=2.049193338482967;\\quad\n",
    "b2 = \\frac{1- \\sqrt{9.6}}{2\\cdot 1}=-1.0491933384829668\\\\\n",
    "M(X) = \\frac{a + b1}{2} = \\frac{0.5 + 2.049193338482967}{2} = 1.2745966692414834\\\\\n",
    "M(X) = \\frac{a + b2}{2} = \\frac{0.5 -1.0491933384829668}{2} = -0.2745966692414834\\\\\n",
    "\\text{Так как левая граница 0.5 то правой границей может быть только b1}\\\\\n",
    "\\to \\text{Cлучайная непрерывная равномерно распределенная величина B имеет:}\\\\\n",
    "a = 0.5\\quad b = 2.049193338482967 \\approx 2.05\\\\\n",
    "D(X) = 0.2\\quad M(X) = 1.2745966692414834 \\approx 1.2746\\\\\n",
    "\n",
    "$$\n",
    "    "
   ]
  },
  {
   "cell_type": "markdown",
   "metadata": {},
   "source": [
    "Непрерывная случайная величина X распределена нормально и задана плотностью распределения\n",
    "    $f(x) = \\frac{1}{4 \\cdot \\sqrt(2\\pi))} \\cdot e^{-\\frac{(x+2)^2}{32}}$\n",
    "    \n",
    "    Найдите:\n",
    "    а). M(X)   \n",
    "    б). D(X)\n",
    "    в). std(X) (среднее квадратичное отклонение)\n",
    "\n",
    "    "
   ]
  },
  {
   "cell_type": "code",
   "execution_count": 76,
   "metadata": {
    "jupyter": {
     "source_hidden": true
    }
   },
   "outputs": [
    {
     "data": {
      "text/latex": [
       "$\\text{ так как задана плотность распределения непрерывной случайной величины X распределеной нормально то:}\\\\\n",
       "f(x) = \\frac{1}{\\sigma \\sqrt{2 \\pi}} e ^ {- \\frac{(x - a)^2}{2 \\sigma^2}},где \\quad a = M(X); \\sigma^2 = D(X)\\\\\n",
       "f(x) = \\frac{1}{4 \\cdot \\sqrt{2\\pi}}\\cdot e^{-\\frac{(x+2)^2}{32}}\\to \\sigma = 4;a = -2\\to M(X)=a=-2;D(X)=\\sigma^2=4^2=16;std(X) = \\sigma = 4$\n"
      ],
      "text/plain": [
       "<IPython.core.display.Latex object>"
      ]
     },
     "metadata": {},
     "output_type": "display_data"
    }
   ],
   "source": [
    "%%latex\n",
    "$\\text{ так как задана плотность распределения непрерывной случайной величины X распределеной нормально то:}\\\\\n",
    "f(x) = \\frac{1}{\\sigma \\sqrt{2 \\pi}} e ^ {- \\frac{(x - a)^2}{2 \\sigma^2}},где \\quad a = M(X); \\sigma^2 = D(X)\\\\\n",
    "f(x) = \\frac{1}{4 \\cdot \\sqrt{2\\pi}}\\cdot e^{-\\frac{(x+2)^2}{32}}\\to \\sigma = 4;a = -2\\to M(X)=a=-2;D(X)=\\sigma^2=4^2=16;std(X) = \\sigma = 4$"
   ]
  },
  {
   "cell_type": "markdown",
   "metadata": {},
   "source": [
    "Рост взрослого населения города X имеет нормальное распределение.\n",
    "Причем, средний рост равен 174 см, а среднее квадратичное отклонение равно 8 см.\n",
    "\n",
    "    Какова вероятность того, что случайным образом выбранный взрослый человек имеет рост:\n",
    "    а). больше 182 см\n",
    "    б). больше 190 см\n",
    "    в). от 166 см до 190 см\n",
    "    г). от 166 см до 182 см\n",
    "    д). от 158 см до 190 см\n",
    "    е). не выше 150 см или не ниже 190 см\n",
    "    ё). не выше 150 см или не ниже 198 см\n",
    "    ж). ниже 166 см.\n",
    "\n",
    "    "
   ]
  },
  {
   "cell_type": "code",
   "execution_count": null,
   "metadata": {},
   "outputs": [],
   "source": []
  },
  {
   "cell_type": "markdown",
   "metadata": {},
   "source": [
    "На сколько сигм (средних квадратичных отклонений) отклоняется рост человека, равный 190 см, \n",
    "от математического ожидания роста в популяции, в которой M(X) = 178 см и D(X) = 25 кв.см?\n"
   ]
  },
  {
   "cell_type": "code",
   "execution_count": 86,
   "metadata": {},
   "outputs": [
    {
     "data": {
      "text/plain": [
       "5.366563145999495"
      ]
     },
     "execution_count": 86,
     "metadata": {},
     "output_type": "execute_result"
    }
   ],
   "source": [
    "(190-178)/5**(1/2)\n"
   ]
  },
  {
   "cell_type": "code",
   "execution_count": null,
   "metadata": {},
   "outputs": [],
   "source": []
  }
 ],
 "metadata": {
  "kernelspec": {
   "display_name": "Python 3",
   "language": "python",
   "name": "python3"
  },
  "language_info": {
   "codemirror_mode": {
    "name": "ipython",
    "version": 3
   },
   "file_extension": ".py",
   "mimetype": "text/x-python",
   "name": "python",
   "nbconvert_exporter": "python",
   "pygments_lexer": "ipython3",
   "version": "3.7.6"
  }
 },
 "nbformat": 4,
 "nbformat_minor": 4
}
