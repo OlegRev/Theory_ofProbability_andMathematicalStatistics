{
 "cells": [
  {
   "cell_type": "markdown",
   "metadata": {},
   "source": [
    "$\\text{1. Из колоды в 52 карты извлекаются случайным образом 4 карты.}\\\\\n",
    "\\text{ a) Найти вероятность того, что все карты – крести.}\\\\\n",
    "\\text{ б) Найти вероятность, что среди 4-х карт окажется хотя бы один туз.}\\\\\n",
    "$    "
   ]
  },
  {
   "cell_type": "code",
   "execution_count": 1,
   "metadata": {},
   "outputs": [
    {
     "name": "stdout",
     "output_type": "stream",
     "text": [
      "Вероятность того что 4 карты из 52 карт принадлежат одной из 4 мастей равно: 0.0026410564225690276\n",
      "Вероятность вытащить 4 карты одной из 4 мастей равна: 0.0026410564225690276\n",
      "\n",
      "\n",
      "Всего сочетаний из 52 карт равно: 270725.0\n",
      "Сочетаний без тузов равно: 194580.0\n",
      "Сочетаний хотя бы с одним тузом равно: 76145.0\n",
      "Вероятность вытащить 4 карты хотя бы с одним тузом равно: 0.2812632745405855\n",
      "\n"
     ]
    }
   ],
   "source": [
    "# a\n",
    "ALL_CARDS = 52\n",
    "SUIT_NUMBERS = 4\n",
    "CARDS = 4\n",
    "def comb_a_b(a, b):\n",
    "    from math import factorial as fl\n",
    "    comb = fl(b)/(fl(a)*(fl(b-a)))\n",
    "    return comb\n",
    "\n",
    "\n",
    "def prob_card(all_cards, suit_numbers, cards, flag = 'suit'):\n",
    "    number_of_cards_of_the_same_suit = all_cards/suit_numbers\n",
    "    probability = 1\n",
    "    for card in range(CARDS):\n",
    "        probability *= (number_of_cards_of_the_same_suit - card)/(all_cards - card)\n",
    "    return f'Вероятность того что {cards} карты из {all_cards} карт принадлежат одной из {suit_numbers} мастей равно: {probability}'\n",
    "    \n",
    "def prob2_card(all_cards, suit_numbers, cards):\n",
    "    number_of_cards_of_the_same_suit = all_cards/suit_numbers\n",
    "    card_comb = comb_a_b(cards, number_of_cards_of_the_same_suit)\n",
    "    all_comb = comb_a_b(cards, all_cards) \n",
    "    return f'Вероятность вытащить {cards} карты одной из 4 мастей равна: {card_comb/all_comb}'\n",
    "\n",
    "\n",
    "print(prob_card(ALL_CARDS, SUIT_NUMBERS, CARDS))\n",
    "print(prob2_card(ALL_CARDS, SUIT_NUMBERS, CARDS))\n",
    "# b\n",
    "\n",
    "all_comb_of_4cards = comb_a_b(CARDS, ALL_CARDS)\n",
    "comb_without_aces = comb_a_b(CARDS, ALL_CARDS - CARDS)\n",
    "comb_of_at_least_one_ace = all_comb_of_4cards - comb_without_aces\n",
    "print(f'\\n\\nВсего сочетаний из {ALL_CARDS} карт равно: {all_comb_of_4cards}\\n'\n",
    "      f'Сочетаний без тузов равно: {comb_without_aces}\\n'\n",
    "      f'Сочетаний хотя бы с одним тузом равно: {comb_of_at_least_one_ace}\\n'\n",
    "      f'Вероятность вытащить {CARDS} карты хотя бы с одним тузом равно: {comb_of_at_least_one_ace/all_comb_of_4cards}\\n')"
   ]
  },
  {
   "cell_type": "markdown",
   "metadata": {},
   "source": [
    "$\\text{2. На входной двери подъезда установлен кодовый замок,}\\\\\n",
    "\\text{содержащий десять кнопок с цифрами от 0 до 9.}\\\\\n",
    "\\text{ Код содержит три цифры, которые нужно нажать одновременно.}\\\\\n",
    "\\text{ Какова вероятность того, что человек, не знающий код,}\\\\\n",
    "\\text{ откроет дверь с первой попытки?}\\\\\n",
    "$\n",
    "   "
   ]
  },
  {
   "cell_type": "code",
   "execution_count": 2,
   "metadata": {},
   "outputs": [
    {
     "name": "stdout",
     "output_type": "stream",
     "text": [
      "Вероятность того, что человек, не знающий трехзначный код на 10 значном замке, откроет дверь с первой попытки\n",
      "\n",
      "0.008333333333333333\n",
      "\n",
      "0.008333333333333333\n"
     ]
    }
   ],
   "source": [
    "def prob_of_gues_the_code(several, number_of_buttons):\n",
    "    p=1\n",
    "    for item in range(several):\n",
    "        p *= (several - item)/(number_of_buttons - item)\n",
    "    return p\n",
    "\n",
    "\n",
    "def prob2_of_gues_the_code(several, number_of_buttons):\n",
    "    result = 1/comb_a_b(several, number_of_buttons)\n",
    "    return result\n",
    "print('Вероятность того, что человек, не знающий трехзначный код на 10 значном замке, откроет дверь с первой попытки', prob_of_gues_the_code(3,10), prob2_of_gues_the_code(3, 10), sep='\\n\\n')"
   ]
  },
  {
   "cell_type": "markdown",
   "metadata": {},
   "source": [
    "$\\text{3. В ящике имеется 15 деталей, из которых 9 окрашены.}\\\\\n",
    "\\text{ Рабочий случайным образом извлекает 3 детали.}\\\\\n",
    "\\text{Какова вероятность того, что все извлеченные детали окрашены?}\\\\\n",
    "$\n",
    "   "
   ]
  },
  {
   "cell_type": "code",
   "execution_count": 3,
   "metadata": {},
   "outputs": [
    {
     "name": "stdout",
     "output_type": "stream",
     "text": [
      "Вероятность того, что все извлеченные детали окрашены\n",
      "\n",
      "0.18461538461538457\n",
      "\n",
      "0.18461538461538463\n"
     ]
    }
   ],
   "source": [
    "p=1\n",
    "for item in range(3):\n",
    "    p *= (9-item)/(15-item)\n",
    "\n",
    "print('Вероятность того, что все извлеченные детали окрашены', p, comb_a_b(3, 9)/comb_a_b(3, 15), sep='\\n\\n')"
   ]
  },
  {
   "cell_type": "markdown",
   "metadata": {},
   "source": [
    "$\\text{4. В лотерее 100 билетов. Из них 2 выигрышных. }\\\\\n",
    "\\text{Какова вероятность того, что 2 приобретенных билета окажутся выигрышными?}\\\\\n",
    "$\n"
   ]
  },
  {
   "cell_type": "code",
   "execution_count": 4,
   "metadata": {},
   "outputs": [
    {
     "name": "stdout",
     "output_type": "stream",
     "text": [
      "Вероятность того, что 2 приобретенных билета окажутся выигрышными равно:\n",
      "\n",
      "0.00020202020202020205\n",
      "\n",
      "0.00020202020202020202\n"
     ]
    }
   ],
   "source": [
    "p=1\n",
    "for i in range(2):\n",
    "    p *= (2-i)/(100-i)\n",
    "    \n",
    "print('Вероятность того, что 2 приобретенных билета окажутся выигрышными равно:',\n",
    "      p,\n",
    "      1/comb_a_b(2, 100),\n",
    "      sep='\\n\\n')"
   ]
  },
  {
   "cell_type": "code",
   "execution_count": null,
   "metadata": {},
   "outputs": [],
   "source": []
  }
 ],
 "metadata": {
  "kernelspec": {
   "display_name": "Python 3",
   "language": "python",
   "name": "python3"
  },
  "language_info": {
   "codemirror_mode": {
    "name": "ipython",
    "version": 3
   },
   "file_extension": ".py",
   "mimetype": "text/x-python",
   "name": "python",
   "nbconvert_exporter": "python",
   "pygments_lexer": "ipython3",
   "version": "3.7.6"
  }
 },
 "nbformat": 4,
 "nbformat_minor": 4
}
