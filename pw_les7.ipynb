{
 "cells": [
  {
   "cell_type": "code",
   "execution_count": 2,
   "metadata": {},
   "outputs": [],
   "source": [
    "import numpy as np\n",
    "import pandas as pd"
   ]
  },
  {
   "cell_type": "markdown",
   "metadata": {},
   "source": [
    "1) Даны значения величины заработной платы заемщиков банка (zp) \n",
    "и значения их поведенческого кредитного скоринга (ks):\n",
    "\n",
    "    zp = [35, 45, 190, 200, 40, 70, 54, 150, 120, 110],\n",
    "    ks = [401, 574, 874, 919, 459, 739, 653, 902, 746, 832].\n",
    "\n",
    "Используя математические операции, посчитать коэффициенты линейной регрессии,\n",
    "приняв за X заработную плату (то есть, zp - признак), \n",
    "а за y - значения скорингового балла (то есть, ks - целевая переменная).\n",
    "Произвести расчет как с использованием intercept, так и без.\n",
    "\n",
    "Коэффициенты уравнения линейной регрессии можно найти следующим образом:\n",
    "\n",
    "$$b = \\frac{\\overline{yx} - \\overline{y} \\cdot {\\overline{x}}}{\\overline{x^2} - (\\overline{x})^2};\\\\\n",
    "a = \\overline{y} - b \\cdot {\\overline{x}}.$$"
   ]
  },
  {
   "cell_type": "code",
   "execution_count": 12,
   "metadata": {},
   "outputs": [
    {
     "name": "stdout",
     "output_type": "stream",
     "text": [
      "   X(zp)  Y(ks)           a         b\n",
      "0     35    401  444.177357  2.620539\n",
      "1     45    574  444.177357  2.620539\n",
      "2    190    874  444.177357  2.620539\n",
      "3    200    919  444.177357  2.620539\n",
      "4     40    459  444.177357  2.620539\n",
      "5     70    739  444.177357  2.620539\n",
      "6     54    653  444.177357  2.620539\n",
      "7    150    902  444.177357  2.620539\n",
      "8    120    746  444.177357  2.620539\n",
      "9    110    832  444.177357  2.620539\n",
      "\n",
      "y = 444.1773573243596 + 2.620538882402765x\n"
     ]
    }
   ],
   "source": [
    "zp = np.array([35, 45, 190, 200, 40, 70, 54, 150, 120, 110])\n",
    "ks = np.array([401, 574, 874, 919, 459, 739, 653, 902, 746, 832])\n",
    "zp_ks = ks*zp\n",
    "b = (zp_ks.mean() - ks.mean()*zp.mean())/((zp**2).mean()-(zp.mean())**2) \n",
    "a = ks.mean() - b* zp.mean()\n",
    "df = pd.DataFrame({'X(zp)': zp, 'Y(ks)': ks, 'a': a, 'b': b}, columns=['X(zp)', 'Y(ks)', 'a','b'])\n",
    "\n",
    "print(df, f'y = {a} + {b}x', sep='\\n\\n')"
   ]
  },
  {
   "cell_type": "markdown",
   "metadata": {},
   "source": [
    "2 )Посчитать коэффициент линейной регрессии при заработной плате (zp),\n",
    "используя градиентный спуск (без intercept).\n"
   ]
  },
  {
   "cell_type": "code",
   "execution_count": null,
   "metadata": {},
   "outputs": [],
   "source": []
  },
  {
   "cell_type": "markdown",
   "metadata": {},
   "source": [
    "3) В каких случаях для вычисления доверительных интервалов и проверки статистических гипотез используется таблица значений функции Лапласа, а в каких - таблица критических точек распределения Стьюдента?\n",
    "\n"
   ]
  },
  {
   "cell_type": "code",
   "execution_count": null,
   "metadata": {},
   "outputs": [],
   "source": []
  },
  {
   "cell_type": "markdown",
   "metadata": {},
   "source": [
    "4 ) Произвести вычисления как в пункте 2, но с вычислением intercept. \n",
    "Учесть, что изменение коэффициентов должно производиться на каждом шаге одновременно\n",
    "\n",
    "(то есть изменение одного коэффициента не должно влиять на изменение другого во время одной итерации)."
   ]
  },
  {
   "cell_type": "code",
   "execution_count": null,
   "metadata": {},
   "outputs": [],
   "source": []
  }
 ],
 "metadata": {
  "kernelspec": {
   "display_name": "Python 3",
   "language": "python",
   "name": "python3"
  },
  "language_info": {
   "codemirror_mode": {
    "name": "ipython",
    "version": 3
   },
   "file_extension": ".py",
   "mimetype": "text/x-python",
   "name": "python",
   "nbconvert_exporter": "python",
   "pygments_lexer": "ipython3",
   "version": "3.7.6"
  }
 },
 "nbformat": 4,
 "nbformat_minor": 4
}
