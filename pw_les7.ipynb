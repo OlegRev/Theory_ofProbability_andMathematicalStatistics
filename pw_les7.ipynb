{
 "cells": [
  {
   "cell_type": "code",
   "execution_count": 1,
   "metadata": {},
   "outputs": [],
   "source": [
    "import numpy as np\n",
    "import pandas as pd"
   ]
  },
  {
   "cell_type": "markdown",
   "metadata": {},
   "source": [
    "1) Даны значения величины заработной платы заемщиков банка (zp) \n",
    "и значения их поведенческого кредитного скоринга (ks):\n",
    "\n",
    "    zp = [35, 45, 190, 200, 40, 70, 54, 150, 120, 110],\n",
    "    ks = [401, 574, 874, 919, 459, 739, 653, 902, 746, 832].\n",
    "\n",
    "Используя математические операции, посчитать коэффициенты линейной регрессии,\n",
    "приняв за X заработную плату (то есть, zp - признак), \n",
    "а за y - значения скорингового балла (то есть, ks - целевая переменная).\n",
    "Произвести расчет как с использованием intercept, так и без.\n"
   ]
  },
  {
   "cell_type": "code",
   "execution_count": 2,
   "metadata": {
    "jupyter": {
     "source_hidden": true
    }
   },
   "outputs": [
    {
     "data": {
      "text/latex": [
       "Коэффициенты уравнения линейной регрессии ($y=a + b \\cdot x$) можно найти следующим образом:\n",
       "\n",
       "$b = \\frac{\\overline{yx} - \\overline{y} \\cdot {\\overline{x}}}{\\overline{x^2} - (\\overline{x})^2};\\\\\n",
       "a = \\overline{y} - b \\cdot {\\overline{x}}.\\\\\n",
       "\\text{Или матричным методом для уравнения }y = \\beta_0 + \\beta_1\\cdot x\\\\\n",
       "\\begin{pmatrix}\n",
       "y_1\\\\ y_2\\\\ \\ldots \\\\ y_n\\\\\n",
       "\\end{pmatrix} = \\begin{pmatrix}\n",
       "1 & x_1\\\\ 1 & x_2 \\\\\\ldots & \\ldots \\\\ 1 & y_n\n",
       "\\end{pmatrix} \\begin{pmatrix}\n",
       "\\beta_0\\\\ \\beta_1\n",
       "\\end{pmatrix}\\\\\n",
       "\\hat{B} = (X^T\\cdot X)^{-1}\\cdot X^T\\cdot Y\\\\\n",
       "\\text{Коэффициент с предположением функции модели как: } y=\\beta_1 \\cdot x\\\\\n",
       "\\begin{pmatrix}\n",
       "y_1\\\\ y_2\\\\ \\ldots \\\\ y_n\\\\\n",
       "\\end{pmatrix} = \\begin{pmatrix}\n",
       "x_1\\\\ x_2\\\\ \\ldots \\\\ y_n\\\\\n",
       "\\end{pmatrix} \\cdot \\beta_1\\\\\n",
       "\\hat{B} = (X^T\\cdot X)^{-1}\\cdot X^T\\cdot Y$\n"
      ],
      "text/plain": [
       "<IPython.core.display.Latex object>"
      ]
     },
     "metadata": {},
     "output_type": "display_data"
    }
   ],
   "source": [
    "%%latex\n",
    "Коэффициенты уравнения линейной регрессии ($y=a + b \\cdot x$) можно найти следующим образом:\n",
    "\n",
    "$b = \\frac{\\overline{yx} - \\overline{y} \\cdot {\\overline{x}}}{\\overline{x^2} - (\\overline{x})^2};\\\\\n",
    "a = \\overline{y} - b \\cdot {\\overline{x}}.\\\\\n",
    "\\text{Или матричным методом для уравнения }y = \\beta_0 + \\beta_1\\cdot x\\\\\n",
    "\\begin{pmatrix}\n",
    "y_1\\\\ y_2\\\\ \\ldots \\\\ y_n\\\\\n",
    "\\end{pmatrix} = \\begin{pmatrix}\n",
    "1 & x_1\\\\ 1 & x_2 \\\\\\ldots & \\ldots \\\\ 1 & y_n\n",
    "\\end{pmatrix} \\begin{pmatrix}\n",
    "\\beta_0\\\\ \\beta_1\n",
    "\\end{pmatrix}\\\\\n",
    "\\hat{B} = (X^T\\cdot X)^{-1}\\cdot X^T\\cdot Y\\\\\n",
    "\\text{Коэффициент с предположением функции модели как: } y=\\beta_1 \\cdot x\\\\\n",
    "\\begin{pmatrix}\n",
    "y_1\\\\ y_2\\\\ \\ldots \\\\ y_n\\\\\n",
    "\\end{pmatrix} = \\begin{pmatrix}\n",
    "x_1\\\\ x_2\\\\ \\ldots \\\\ y_n\\\\\n",
    "\\end{pmatrix} \\cdot \\beta_1\\\\\n",
    "\\hat{B} = (X^T\\cdot X)^{-1}\\cdot X^T\\cdot Y$"
   ]
  },
  {
   "cell_type": "code",
   "execution_count": 3,
   "metadata": {},
   "outputs": [
    {
     "name": "stdout",
     "output_type": "stream",
     "text": [
      "   X(zp)  Y(ks)       y_hat  (y_hat - Y(ks))^2\n",
      "0     35    401  535.896218       18196.989687\n",
      "1     45    574  562.101607         141.571755\n",
      "2    190    874  942.079745        4634.851677\n",
      "3    200    919  968.285134        2429.024414\n",
      "4     40    459  548.998913        8099.804273\n",
      "5     70    739  627.615079       12406.600606\n",
      "6     54    653  585.686457        4531.113075\n",
      "7    150    902  837.258190        4191.502003\n",
      "8    120    746  758.642023         159.820751\n",
      "9    110    832  732.436634        9912.863772 \n",
      "\n",
      " y = 444.1773573243596 + 2.620538882402765*x,\n",
      "((Y(ks)-y_hat)^2.sum()) / n: 6470.414201176658,\n",
      " without_intercept: y = 5.889820420132688*x\n",
      " with_intercept y = 𝛽0 + 𝛽1*x : y = 444.1773573243595 + 2.6205388824027693*x\n"
     ]
    }
   ],
   "source": [
    "zp = np.array([35, 45, 190, 200, 40, 70, 54, 150, 120, 110]) \n",
    "ks = np.array([401, 574, 874, 919, 459, 739, 653, 902, 746, 832])\n",
    "zp_ks = ks*zp\n",
    "n= len(zp)\n",
    "b = (np.mean(zp_ks) - np.mean(ks)*np.mean(zp))/(np.mean(zp**2)-(np.mean(zp))**2) \n",
    "b_ = (n*(np.sum(zp_ks)) - (np.sum(zp) * np.sum(ks)))/(n*(np.sum(zp**2)) - (np.sum(zp)**2))\n",
    "a = np.mean(ks) - b* np.mean(zp)\n",
    "y_hat = a + b*zp\n",
    "df = pd.DataFrame({'X(zp)': zp, 'Y(ks)': ks, 'y_hat': y_hat, '(y_hat - Y(ks))^2': (y_hat - ks)**2}, columns=['X(zp)', 'Y(ks)', 'y_hat', '(y_hat - Y(ks))^2'])\n",
    "\n",
    "\n",
    "zp_without_intercept = zp.reshape((10, 1))\n",
    "zp_with_intercept = np.hstack([np.ones((10, 1)), zp_without_intercept])\n",
    "ks_ = ks.reshape((10, 1))\n",
    "\n",
    "B_hat_with_intercept = np.dot(np.linalg.inv(np.dot(zp_with_intercept.T, zp_with_intercept)), zp_with_intercept.T @ ks_)\n",
    "B_hat_without_intercept = np.dot(np.linalg.inv(np.dot(zp_without_intercept.T, zp_without_intercept)), zp_without_intercept.T @ ks_)\n",
    "\n",
    "print(f'{df} \\n\\n'\n",
    "      f' y = {a} + {b}*x,\\n'\n",
    "      f'((Y(ks)-y_hat)^2.sum()) / n: {(((y_hat - ks)**2).sum()/n)},\\n'\n",
    "      f' without_intercept: y = {B_hat_without_intercept[0, 0]}*x\\n'\n",
    "      f' with_intercept y = 𝛽0 + 𝛽1*x : y = {B_hat_with_intercept[0, 0]} + {B_hat_with_intercept[1, 0]}*x')"
   ]
  },
  {
   "cell_type": "markdown",
   "metadata": {},
   "source": [
    "2 )Посчитать коэффициент линейной регрессии при заработной плате (zp),\n",
    "используя градиентный спуск (без intercept).\n"
   ]
  },
  {
   "cell_type": "code",
   "execution_count": 4,
   "metadata": {},
   "outputs": [],
   "source": [
    "def mse_without_intercept(B1, y=ks, X=zp, n=10):\n",
    "    return np.sum((B1*X - y)**2)/n\n"
   ]
  },
  {
   "cell_type": "code",
   "execution_count": 5,
   "metadata": {},
   "outputs": [
    {
     "name": "stdout",
     "output_type": "stream",
     "text": [
      "Итерация 0, B1 = 5.0245174, mse = 66832.07825149018\n",
      "Итерация 3000, B1 = 5.889820420132673, mse = 56516.85841571943\n",
      "Итерация 6000, B1 = 5.889820420132673, mse = 56516.85841571943\n",
      "Итерация 9000, B1 = 5.889820420132673, mse = 56516.85841571943\n"
     ]
    }
   ],
   "source": [
    "B1 = 5\n",
    "\n",
    "alpha = 1e-6\n",
    "\n",
    "for i in range(10000):\n",
    "    B1 -= alpha*(2/n)*np.sum((B1*zp - ks)*zp)\n",
    "    if i%3000==0:\n",
    "        print(f'Итерация {i}, B1 = {B1}, mse = {mse_without_intercept(B1)}')\n",
    "\n"
   ]
  },
  {
   "cell_type": "markdown",
   "metadata": {},
   "source": [
    "3) В каких случаях для вычисления доверительных интервалов и проверки статистических гипотез используется таблица значений функции Лапласа, а в каких - таблица критических точек распределения Стьюдента?\n",
    "    \n",
    "    Таблица значений функции Лапласа используется в случаях, когда  𝜎(cигма) генеральной совокупности ИЗВЕСТНА\n",
    "\n",
    "    Таблица критических точек распределения Стьюдент используется, если 𝜎(cигма) генеральной совокупности НЕ ИЗВЕСТНА\n"
   ]
  },
  {
   "cell_type": "markdown",
   "metadata": {},
   "source": [
    "4 ) Произвести вычисления как в пункте 2, но с вычислением intercept. \n",
    "Учесть, что изменение коэффициентов должно производиться на каждом шаге одновременно\n",
    "\n",
    "(то есть изменение одного коэффициента не должно влиять на изменение другого во время одной итерации)."
   ]
  },
  {
   "cell_type": "code",
   "execution_count": 6,
   "metadata": {},
   "outputs": [
    {
     "name": "stdout",
     "output_type": "stream",
     "text": [
      "Итерация 0, B0 = 0.10139932, B1 = 0.2595078, mse = 493102.2473380378\n",
      "Итерация 500000, B0 = 99.62326925415903, B1 = 5.156609306712451, mse = 36584.8831651681\n",
      "Итерация 1000000, B0 = 176.81634536031407, B1 = 4.588434137551724, mse = 24602.866672921762\n",
      "Итерация 1500000, B0 = 236.71526880642702, B1 = 4.147551578153019, mse = 17388.28338336958\n",
      "Итерация 2000000, B0 = 283.1945803067062, B1 = 3.8054432958269095, mse = 13044.25564183225\n",
      "Итерация 2500000, B0 = 319.2607777147802, B1 = 3.5399801371216335, mse = 10428.639983674579\n",
      "Итерация 3000000, B0 = 347.2467902759279, B1 = 3.33399071134467, mse = 8853.731700793858\n",
      "Итерация 3500000, B0 = 368.96288333142047, B1 = 3.1741506652199787, mse = 7905.451668998496\n",
      "Итерация 4000000, B0 = 385.8137546931221, B1 = 3.0501208017996615, mse = 7334.47555027671\n",
      "Итерация 4500000, B0 = 398.88939702545025, B1 = 2.9538782931601695, mse = 6990.680766858188\n"
     ]
    }
   ],
   "source": [
    "def mse_with_intercept(B0, B1, y=ks, X=zp, n=10):\n",
    "    return np.sum((B0 + B1*X - y)**2)/n\n",
    "\n",
    "B0 = 0.1\n",
    "B1 = 0.1\n",
    "\n",
    "alpha = 1e-6\n",
    "for i in range(5000000): \n",
    "    y_hat = B0 + B1*zp\n",
    "    B0 -= alpha*(2/n)*np.sum((y_hat - ks))\n",
    "    B1 -= alpha*(2/n)*np.sum((y_hat - ks)*zp)\n",
    "    if i%500000==0:\n",
    "        print(f'Итерация {i}, B0 = {B0}, B1 = {B1}, mse = {mse_with_intercept(B0, B1)}')"
   ]
  },
  {
   "cell_type": "code",
   "execution_count": null,
   "metadata": {},
   "outputs": [],
   "source": []
  }
 ],
 "metadata": {
  "kernelspec": {
   "display_name": "Python 3",
   "language": "python",
   "name": "python3"
  },
  "language_info": {
   "codemirror_mode": {
    "name": "ipython",
    "version": 3
   },
   "file_extension": ".py",
   "mimetype": "text/x-python",
   "name": "python",
   "nbconvert_exporter": "python",
   "pygments_lexer": "ipython3",
   "version": "3.7.6"
  }
 },
 "nbformat": 4,
 "nbformat_minor": 4
}
