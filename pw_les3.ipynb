{
 "cells": [
  {
   "cell_type": "code",
   "execution_count": 1,
   "metadata": {},
   "outputs": [],
   "source": [
    "import numpy as np\n",
    "from math import sqrt"
   ]
  },
  {
   "cell_type": "markdown",
   "metadata": {},
   "source": [
    "### 1.Даны значения зарплат из выборки выпускников: 100, 80, 75, 77, 89, 33, 45, 25, 65, 17, 30, 24, 57, 55, 70, 75, 65, 84, 90, 150. \n",
    "\n",
    "    Посчитать (желательно без использования статистических методов наподобие std, var, mean) \n",
    "    среднее арифметическое,\n",
    "    среднее квадратичное отклонение,\n",
    "    смещенную \n",
    "    и несмещенную оценки дисперсий для данной выборки.\n",
    "    "
   ]
  },
  {
   "cell_type": "code",
   "execution_count": 2,
   "metadata": {},
   "outputs": [
    {
     "name": "stdout",
     "output_type": "stream",
     "text": [
      "среднее арифметическое :\t\t 65.3\n",
      "  сравнение с функцией из модуля numpy(np.average(graduate_salaries)):\t\t True\n",
      "\n",
      "среднее квадратичное отклонение :\t 30.823854398825596\n",
      "  сравнение с функцией из модуля numpy(np.std(graduate_salaries)):\t\t True\n",
      "\n",
      "смещенная оценка дисперсии :\t\t 950.11\n",
      "  сравнение с функцией из модуля numpy(np.var(graduate_salaries)):\t\t True\n",
      "\n",
      "несмещенная оценка дисперсии :\t\t 1000.1157894736842\n",
      "  сравнение с функцией из модуля numpy\n",
      "  (sqrt(unbiased_variance_estimate(graduate_salaries)) == np.std(graduate_salaries, ddof=1)):\t True\n",
      "\n",
      "Где graduate_salaries - статистические данные\n"
     ]
    }
   ],
   "source": [
    "graduate_salaries = [100, 80, 75, 77, 89, 33, 45, 25, 65, 17, 30, 24, 57, 55, 70, 75, 65, 84, 90, 150]\n",
    "\n",
    "def _average(statistical_data: list):\n",
    "    \n",
    "    average = 0\n",
    "    for item in statistical_data:\n",
    "        average += item\n",
    "    else:\n",
    "        average = average/len(statistical_data)\n",
    "        return  average\n",
    "\n",
    "\n",
    "def standard_deviation(statistical_data: list):\n",
    "    # from math import sqrt\n",
    "    average = _average(statistical_data)\n",
    "    standard_deviation = 0\n",
    "    for item in statistical_data:\n",
    "        standard_deviation += (item - average)**2\n",
    "    else:\n",
    "        standard_deviation = sqrt(standard_deviation/len(statistical_data))\n",
    "        return  standard_deviation     \n",
    "    \n",
    "def biased_variance_estimate(statistical_data: list):\n",
    "    \n",
    "    average = _average(statistical_data)\n",
    "    biased_variance_estimate = 0\n",
    "    for item in statistical_data:\n",
    "        biased_variance_estimate += (item - average)**2\n",
    "    else:\n",
    "        biased_variance_estimate = biased_variance_estimate/len(statistical_data)\n",
    "        return  biased_variance_estimate \n",
    "\n",
    "    \n",
    "def unbiased_variance_estimate(statistical_data: list):\n",
    "    \n",
    "    average = _average(statistical_data)\n",
    "    unbiased_variance_estimate = 0\n",
    "    for item in statistical_data:\n",
    "        unbiased_variance_estimate += (item - average)**2\n",
    "    else:\n",
    "        unbiased_variance_estimate = unbiased_variance_estimate/(len(statistical_data)-1)\n",
    "        return  unbiased_variance_estimate \n",
    "\n",
    "\n",
    "print(f'среднее арифметическое :\\t\\t {_average(graduate_salaries)}\\n'\n",
    "      f'  сравнение с функцией из модуля numpy(np.average(graduate_salaries)):'\n",
    "      f'\\t\\t {_average(graduate_salaries) == np.average(graduate_salaries)}\\n'\n",
    "      f'\\nсреднее квадратичное отклонение :\\t {standard_deviation(graduate_salaries)}\\n'\n",
    "      f'  сравнение с функцией из модуля numpy(np.std(graduate_salaries)):'\n",
    "      f'\\t\\t {standard_deviation(graduate_salaries) == np.std(graduate_salaries)}\\n'\n",
    "      f'\\nсмещенная оценка дисперсии :\\t\\t {biased_variance_estimate(graduate_salaries)}\\n'\n",
    "      f'  сравнение с функцией из модуля numpy(np.var(graduate_salaries)):'\n",
    "      f'\\t\\t {biased_variance_estimate(graduate_salaries) == np.var(graduate_salaries)}\\n'\n",
    "      f'\\nнесмещенная оценка дисперсии :\\t\\t {unbiased_variance_estimate(graduate_salaries)}\\n'\n",
    "      f'  сравнение с функцией из модуля numpy\\n'\n",
    "      f'  (sqrt(unbiased_variance_estimate(graduate_salaries)) == np.std(graduate_salaries, ddof=1)):\\t'\n",
    "      f' {sqrt(unbiased_variance_estimate(graduate_salaries))== np.std(graduate_salaries, ddof=1)}\\n\\n'\n",
    "      f'Где graduate_salaries - статистические данные')"
   ]
  },
  {
   "cell_type": "markdown",
   "metadata": {},
   "source": [
    "### 2.В первом ящике находится 8 мячей, из которых 5 - белые. Во втором ящике - 12 мячей, из которых 5 белых. Из первого ящика вытаскивают случайным образом два мяча, из второго - 4. \n",
    "\n",
    "    Какова вероятность того, что 3 мяча белые?\n",
    "    "
   ]
  },
  {
   "cell_type": "code",
   "execution_count": 3,
   "metadata": {},
   "outputs": [
    {
     "name": "stdout",
     "output_type": "stream",
     "text": [
      "0.3686868686868687\n"
     ]
    }
   ],
   "source": [
    "def comb_a_b(a, b):\n",
    "    from math import factorial as fl\n",
    "    comb = fl(b)/(fl(a)*(fl(b-a)))\n",
    "    return comb\n",
    "\n",
    "\n",
    "n1 = 8\n",
    "n1_white = 5\n",
    "n1_black = n1 - n1_white\n",
    "\n",
    "p1_ww = comb_a_b(2, n1_white)/comb_a_b(2, n1) \n",
    "p1_bb = comb_a_b(2, n1_black)/comb_a_b(2, n1) \n",
    "p1_wb = (comb_a_b(1, n1_white)*comb_a_b(1, n1_black))/comb_a_b(2, n1)\n",
    "\n",
    "\n",
    "n2 = 12\n",
    "n2_white = 5\n",
    "n2_black = n2 - n2_white\n",
    "\n",
    "p2_wbbb = (comb_a_b(1, n2_white)*comb_a_b(3, n2_black))/comb_a_b(4, n2)\n",
    "p2_wwbb = (comb_a_b(2, n2_white)*comb_a_b(2, n2_black))/comb_a_b(4, n2)\n",
    "p2_wwwb = (comb_a_b(3, n2_white)*comb_a_b(1, n2_black))/comb_a_b(4, n2)\n",
    "\n",
    "n_balls1 = 1\n",
    "n_balls2 = 2\n",
    "print(p1_bb*p2_wwwb + p1_wb*p2_wwbb + p1_ww*p2_wbbb)"
   ]
  },
  {
   "cell_type": "markdown",
   "metadata": {},
   "source": [
    "### 3.На соревновании по биатлону один из трех спортсменов стреляет и попадает в мишень. Вероятность попадания для первого спортсмена равна 0.9, для второго — 0.8, для третьего — 0.6.\n",
    "\n",
    "    Найти вероятность того, что выстрел произведен: \n",
    "    a). первым спортсменом \n",
    "    б). вторым спортсменом \n",
    "    в). третьим спортсменом.\n",
    "   "
   ]
  },
  {
   "cell_type": "code",
   "execution_count": 4,
   "metadata": {},
   "outputs": [
    {
     "name": "stdout",
     "output_type": "stream",
     "text": [
      "0.391304347826087 0.3478260869565218 0.2608695652173913\n"
     ]
    }
   ],
   "source": [
    "p1 = 0.9\n",
    "p2 = 0.8\n",
    "p3 = 0.6\n",
    "\n",
    "p_shooter = 1/3\n",
    "\n",
    "p_shot = p_shooter*p1 + p_shooter*p2 + p_shooter*p3\n",
    "p1_shot = p_shooter*p1/p_shot\n",
    "p2_shot = p_shooter*p2/p_shot\n",
    "p3_shot = p_shooter*p3/p_shot\n",
    "\n",
    "print(p1_shot, p2_shot, p3_shot)"
   ]
  },
  {
   "cell_type": "markdown",
   "metadata": {},
   "source": [
    "### 4.В университет на факультеты A и B поступило равное количество студентов, а на факультет C студентов поступило столько же, сколько на A и B вместе. Вероятность того, что студент факультета A сдаст первую сессию, равна 0.8. Для студента факультета B эта вероятность равна 0.7, а для студента факультета C - 0.9. Студент сдал первую сессию.\n",
    "\n",
    "    Какова вероятность, что он учится:\n",
    "    a). на факультете A \n",
    "    б). на факультете B \n",
    "    в). на факультете C?\n",
    "   "
   ]
  },
  {
   "cell_type": "code",
   "execution_count": 10,
   "metadata": {},
   "outputs": [
    {
     "name": "stdout",
     "output_type": "stream",
     "text": [
      "Dероятность, что студент сдавший сессию учится:\n",
      "a). на факультете A \t0.24242424242424246,\n",
      "б). на факультете B \t0.21212121212121213,\n",
      "в). на факультете C \t0.5454545454545455,\n",
      "\tCумма вероятностей \t1.0\n"
     ]
    }
   ],
   "source": [
    "pA_session = 0.8\n",
    "pA_student = 1/4\n",
    "\n",
    "pB_session = 0.7\n",
    "pB_student = 1/4\n",
    "\n",
    "pC_session = 0.9\n",
    "pC_student = 2/4\n",
    "\n",
    "# nA=nB; nC=2nB=2nA\n",
    "p_pass = pA_session*pA_student + pB_session*pB_student + pC_session*pC_student\n",
    "pA_pass = pA_session*pA_student/p_pass\n",
    "pB_pass = pB_session*pB_student/p_pass\n",
    "pC_pass = pC_session*pC_student/p_pass\n",
    "print(f'Dероятность, что студент сдавший сессию учится:\\n'\n",
    "      f'a). на факультете A \\t{pA_pass},\\n'\n",
    "      f'б). на факультете B \\t{pB_pass},\\n'\n",
    "      f'в). на факультете C \\t{pC_pass},'\n",
    "      f'\\n\\tCумма вероятностей \\t{pA_pass+pB_pass+pC_pass}')"
   ]
  },
  {
   "cell_type": "markdown",
   "metadata": {},
   "source": [
    "### 5.Устройство состоит из трех деталей. Для первой детали вероятность выйти из строя в первый месяц равна 0.1, для второй - 0.2, для третьей - 0.25.\n",
    "    \n",
    "    Какова вероятность того, что в первый месяц выйдут из строя: \n",
    "    а). все детали \n",
    "    б). только две детали \n",
    "    в). хотя бы одна деталь \n",
    "    г). от одной до двух деталей?\n"
   ]
  },
  {
   "cell_type": "code",
   "execution_count": 16,
   "metadata": {},
   "outputs": [
    {
     "name": "stdout",
     "output_type": "stream",
     "text": [
      "Вероятность того, что в первый месяц выйдут из строя: \n",
      "\tа). все детали \t\t\t0.005000000000000001,\n",
      "\tб). только две детали \t\t0.095,\n",
      "\tв). хотя бы одна деталь \t0.45999999999999996,\n",
      "\tг). от одной до двух деталей \t0.45499999999999996\n"
     ]
    }
   ],
   "source": [
    "p1 = 0.1\n",
    "p2 = 0.2\n",
    "p3 = 0.25\n",
    "a = p1 * p2 * p3\n",
    "b = p1 * p2 + p1 * p3+ p2 * p3\n",
    "v = 1 - (1-p1)*(1-p2)*(1-p3)\n",
    "g = v - a\n",
    "print(f'Вероятность того, что в первый месяц выйдут из строя: \\n\\t'\n",
    "      f'а). все детали \\t\\t\\t{a},\\n\\t'\n",
    "      f'б). только две детали \\t\\t{b},\\n\\t'\n",
    "      f'в). хотя бы одна деталь \\t{v},\\n\\t'\n",
    "      f'г). от одной до двух деталей \\t{g}')"
   ]
  },
  {
   "cell_type": "code",
   "execution_count": null,
   "metadata": {},
   "outputs": [],
   "source": []
  }
 ],
 "metadata": {
  "kernelspec": {
   "display_name": "Python 3",
   "language": "python",
   "name": "python3"
  },
  "language_info": {
   "codemirror_mode": {
    "name": "ipython",
    "version": 3
   },
   "file_extension": ".py",
   "mimetype": "text/x-python",
   "name": "python",
   "nbconvert_exporter": "python",
   "pygments_lexer": "ipython3",
   "version": "3.7.6"
  }
 },
 "nbformat": 4,
 "nbformat_minor": 4
}
